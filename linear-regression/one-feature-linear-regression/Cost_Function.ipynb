{
 "cells": [
  {
   "cell_type": "markdown",
   "metadata": {},
   "source": [
    "# Cost Function"
   ]
  },
  {
   "cell_type": "code",
   "execution_count": 17,
   "metadata": {},
   "outputs": [],
   "source": [
    "import numpy as np \n",
    "import matplotlib.pyplot as plt "
   ]
  },
  {
   "cell_type": "markdown",
   "metadata": {
    "vscode": {
     "languageId": "plaintext"
    }
   },
   "source": [
    "### Dataset"
   ]
  },
  {
   "cell_type": "code",
   "execution_count": 18,
   "metadata": {},
   "outputs": [],
   "source": [
    "x_train = np.array([1.0, 2.0])\n",
    "y_train = np.array([300.0, 500.0])"
   ]
  },
  {
   "cell_type": "markdown",
   "metadata": {},
   "source": [
    "### Cost function\n",
    "\n",
    "$$ J(w, b) = \\frac{1}{2n} \\sum_{i=0}^{n-1} (f_{w, b}(x^{(i)}) - y^{(i)})^2$$"
   ]
  },
  {
   "cell_type": "code",
   "execution_count": 19,
   "metadata": {},
   "outputs": [],
   "source": [
    "def compute_cost(x, y, w, b):\n",
    "    \"\"\" \n",
    "    Computes the cost function for linear regression\n",
    "    Args:\n",
    "        x (ndarray (n,)): input variables, n examples\n",
    "        y (ndarray (n,)): target values\n",
    "        w, b (scalar): model parameters\n",
    "    Returns:\n",
    "        cost (float): the cost for linear regression\n",
    "    \"\"\"\n",
    "    n = x.shape[0]\n",
    "    cost = 0.0\n",
    "    for i in range(n):\n",
    "        f = w * x[i] + b\n",
    "        cost += (f - y[i]) ** 2\n",
    "    cost = (1 / (2 * n)) * cost\n",
    "\n",
    "    return cost"
   ]
  },
  {
   "cell_type": "code",
   "execution_count": 20,
   "metadata": {},
   "outputs": [
    {
     "name": "stdout",
     "output_type": "stream",
     "text": [
      "Cost = 0.0\n"
     ]
    }
   ],
   "source": [
    "w = 200\n",
    "b = 100\n",
    "cost = compute_cost(x_train, y_train, w, b)\n",
    "print('Cost =', cost)"
   ]
  },
  {
   "cell_type": "markdown",
   "metadata": {},
   "source": [
    "### Larger dataset"
   ]
  },
  {
   "cell_type": "code",
   "execution_count": 22,
   "metadata": {},
   "outputs": [
    {
     "name": "stdout",
     "output_type": "stream",
     "text": [
      "Cost = 9366.666666666666\n"
     ]
    }
   ],
   "source": [
    "x_train = np.array([1.0, 1.7, 2.0, 2.5, 3.0, 3.2])\n",
    "y_train = np.array([250, 300, 480, 430, 630, 730])\n",
    "\n",
    "w = 200\n",
    "b = -100\n",
    "cost = compute_cost(x_train, y_train, w, b)\n",
    "print('Cost =', cost)"
   ]
  }
 ],
 "metadata": {
  "kernelspec": {
   "display_name": "venv",
   "language": "python",
   "name": "python3"
  },
  "language_info": {
   "codemirror_mode": {
    "name": "ipython",
    "version": 3
   },
   "file_extension": ".py",
   "mimetype": "text/x-python",
   "name": "python",
   "nbconvert_exporter": "python",
   "pygments_lexer": "ipython3",
   "version": "3.13.1"
  }
 },
 "nbformat": 4,
 "nbformat_minor": 2
}
