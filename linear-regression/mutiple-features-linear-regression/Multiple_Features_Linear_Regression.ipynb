{
 "cells": [
  {
   "cell_type": "markdown",
   "metadata": {},
   "source": [
    "# Multiple Features Linear Regression"
   ]
  },
  {
   "cell_type": "code",
   "execution_count": 2,
   "metadata": {},
   "outputs": [],
   "source": [
    "import copy\n",
    "import numpy as np\n",
    "import matplotlib.pyplot as plt"
   ]
  },
  {
   "cell_type": "markdown",
   "metadata": {},
   "source": [
    "## Housing Price Prediction\n",
    "\n",
    "Given a dataset containing three training examples with four features\n",
    "\n",
    "| Size (sqft) | Number of Bedrooms  | Number of floors | Age of  Home | Price (1000s dollars)  |   \n",
    "| ------------| ------------------- |----------------- |--------------|----------------------- |  \n",
    "| 2104        | 5                   | 1                | 45           | 460                    |  \n",
    "| 1416        | 3                   | 2                | 40           | 232                    |  \n",
    "| 852         | 2                   | 1                | 35           | 178                    |  \n",
    "\n",
    "Predict price for other houses"
   ]
  },
  {
   "cell_type": "markdown",
   "metadata": {},
   "source": [
    "### Dataset\n",
    "\n",
    "$$\n",
    "\\mathbf{X} = \n",
    "\\begin{pmatrix}\n",
    "x_0^{(0)}   & x_1^{(1)}     & \\cdots    & x_{d-1}^{(0)}     \\\\\n",
    "x_0^{(1)}   & x_1^{(1)}     & \\cdots    & x_{d-1}^{(1)}     \\\\\n",
    "            &               & \\cdots    &                   \\\\\n",
    "x_0^{(n-1)} & x_1^{(n-1)}   & \\cdots    & x_{d-1}^{(n-1)}\n",
    "\\end{pmatrix}\n",
    "$$"
   ]
  },
  {
   "cell_type": "code",
   "execution_count": 3,
   "metadata": {},
   "outputs": [],
   "source": [
    "X_train = np.array([[2104, 5, 1, 45], [1416, 3, 2, 40], [852, 2, 1, 35]])\n",
    "y_train = np.array([460, 232, 178])"
   ]
  },
  {
   "cell_type": "code",
   "execution_count": 4,
   "metadata": {},
   "outputs": [
    {
     "name": "stdout",
     "output_type": "stream",
     "text": [
      "Number of training examples: n = 3\n",
      "Number of features: d = 4\n"
     ]
    }
   ],
   "source": [
    "n = X_train.shape[0]\n",
    "print(f\"Number of training examples: n =\", n)\n",
    "d = X_train.shape[1]\n",
    "print(f\"Number of features: d =\", d)"
   ]
  },
  {
   "cell_type": "code",
   "execution_count": 5,
   "metadata": {},
   "outputs": [],
   "source": [
    "b_init = 785.1811367994083\n",
    "w_init = np.array([0.39133535, 18.75376741, -53.36032453, -26.42131618])"
   ]
  },
  {
   "cell_type": "markdown",
   "metadata": {},
   "source": [
    "### Model function\n",
    "$$ f_{w,b}(\\mathbf{x}) = w_0x_0 + w_1x_1 + \\cdots + w_{d-1}x_{d-1} + b $$\n",
    "\n",
    "or\n",
    "\n",
    "$$ f_{w,b}(\\mathbf{x}) = \\mathbf{w} \\cdot \\mathbf{x} + b $$"
   ]
  },
  {
   "cell_type": "code",
   "execution_count": 6,
   "metadata": {},
   "outputs": [],
   "source": [
    "def predict(x, w, b):\n",
    "    \"\"\" \n",
    "    Single predict using linear regression\n",
    "    Args:\n",
    "        x (ndarray(d,)) : an input variables with d features\n",
    "        w (ndarray(d,)) : model parameters\n",
    "        b (scalar)      : model parameter\n",
    "    Returns:\n",
    "        f (scalar)      : prediction\n",
    "    \"\"\"\n",
    "    f = np.dot(w, x) + b\n",
    "    return f"
   ]
  },
  {
   "cell_type": "code",
   "execution_count": 7,
   "metadata": {},
   "outputs": [
    {
     "name": "stdout",
     "output_type": "stream",
     "text": [
      "0th input variable: x^(0) = [2104    5    1   45]\n",
      "prediction: f_w,b = 459.9999976194083\n"
     ]
    }
   ],
   "source": [
    "# ith input variable\n",
    "i = 0\n",
    "print(f\"0th input variable: x^({i}) = {X_train[i, :]}\")\n",
    "print(\"prediction: f_w,b =\", predict(X_train[i], w_init, b_init))\n"
   ]
  },
  {
   "cell_type": "markdown",
   "metadata": {},
   "source": [
    "### Cost function\n",
    "\n",
    "$$ J(w, b) = \\frac{1}{2n} \\sum_{i=0}^{n-1} (f_{w, b}(x^{(i)}) - y^{(i)})^2$$\n",
    "\n",
    "where\n",
    "\n",
    "$$ f_{w,b}(\\mathbf{x^{(i)}}) = \\mathbf{w} \\cdot \\mathbf{x^{(i)}} + b $$"
   ]
  },
  {
   "cell_type": "code",
   "execution_count": 8,
   "metadata": {},
   "outputs": [],
   "source": [
    "def compute_cost(X, y, w, b):\n",
    "    \"\"\" \n",
    "    Computes cost\n",
    "    Args:\n",
    "        X (ndarray(n, d))   : m input variables with d features\n",
    "        y (ndarray(n,))     : target values\n",
    "        w (ndarray(d,))     : model parameters\n",
    "        b (scalar)          : model parameter\n",
    "    Returns:\n",
    "        cost (scalar)       : cost\n",
    "    \"\"\"\n",
    "    n = X.shape[0]\n",
    "    cost = 0.0\n",
    "\n",
    "    for i in range(n):\n",
    "        f = np.dot(w, X[i]) + b\n",
    "        cost += (f - y[i]) ** 2\n",
    "    \n",
    "    cost /= 2 * n\n",
    "    \n",
    "    return cost"
   ]
  },
  {
   "cell_type": "code",
   "execution_count": 9,
   "metadata": {},
   "outputs": [
    {
     "name": "stdout",
     "output_type": "stream",
     "text": [
      "Cost = 1.5578904428966628e-12\n"
     ]
    }
   ],
   "source": [
    "cost = compute_cost(X_train, y_train, w_init, b_init)\n",
    "print('Cost =', cost)"
   ]
  },
  {
   "cell_type": "markdown",
   "metadata": {},
   "source": [
    "### Gradient descent\n"
   ]
  },
  {
   "cell_type": "markdown",
   "metadata": {},
   "source": [
    "### Gradient descent\n",
    "\n",
    "$$\n",
    "\\begin{align*}\n",
    "\\text{repeat util} &\\text{ convergence:} \\; \\lbrace \\\\\n",
    "\\; w_j &:= w_j - \\alpha \\frac{\\partial J(w, b)}{\\partial w_j} \\; \\text{(for every }j)\\\\\n",
    "\\; b &:= b - \\alpha \\frac{\\partial J(w, b)}{\\partial b} \\\\\n",
    "\\rbrace\n",
    "\\end{align*}\n",
    "$$\n",
    "\n",
    "where\n",
    "\n",
    "$$\n",
    "\\begin{align*}\n",
    "\\frac{\\partial J(w, b)}{\\partial w_j} &= \\frac{1}{n} \\sum_{i=0}^{n-1} (f_{w,b}(x^{(i)}) - y^{(i)})x_j^{(i)} \\\\\n",
    "\\frac{\\partial J(w, b)}{\\partial b} &= \\frac{1}{n} \\sum_{i=0}^{n-1} (f_{w,b}(x^{(i)}) - y^{(i)})\n",
    "\\end{align*}\n",
    "$$"
   ]
  },
  {
   "cell_type": "code",
   "execution_count": 10,
   "metadata": {},
   "outputs": [],
   "source": [
    "def compute_gradient(X, y, w, b):\n",
    "    \"\"\" \n",
    "    Computes the gradient of the cost J wrt parameters w, b for linear regression\n",
    "    Args:\n",
    "        X (ndarray(n, d))   : n input variables with d features\n",
    "        y (ndarray(n,))     : target values\n",
    "        w (ndarray(d,))     : model parameters\n",
    "        b (scalar)          : model parameter\n",
    "    Returns:\n",
    "        dJ_dw (ndarray(d,)) : gradient of J wrt w\n",
    "        dJ_db (scalar)      : gradient of J wrt b\n",
    "    \"\"\"\n",
    "    n, d = X.shape\n",
    "    dJ_dw = np.zeros((d,))\n",
    "    dJ_db = 0.0\n",
    "\n",
    "    for i in range(n):\n",
    "        err = (np.dot(w, X[i]) + b - y[i])\n",
    "\n",
    "        for j in range(d):\n",
    "            dJ_dw[j] += err * X[i, j]\n",
    "        \n",
    "        dJ_db += err\n",
    "\n",
    "    dJ_dw /= n\n",
    "    dJ_db /= n\n",
    "    \n",
    "    return dJ_dw, dJ_db"
   ]
  },
  {
   "cell_type": "code",
   "execution_count": 11,
   "metadata": {},
   "outputs": [
    {
     "name": "stdout",
     "output_type": "stream",
     "text": [
      "dJ_dw at initial w, b: [-2.72623577e-03 -6.27197263e-06 -2.21745578e-06 -6.92403391e-05]\n",
      "dJ_db at initial w, b: -1.6739251501955248e-06\n"
     ]
    }
   ],
   "source": [
    "tmp_dJ_dw, tmp_dJ_db = compute_gradient(X_train, y_train, w_init, b_init)\n",
    "print('dJ_dw at initial w, b:', tmp_dJ_dw)\n",
    "print('dJ_db at initial w, b:', tmp_dJ_db)"
   ]
  },
  {
   "cell_type": "code",
   "execution_count": 12,
   "metadata": {},
   "outputs": [],
   "source": [
    "def gradient_descent(X, y, w_in, b_in, alpha, num_iters):\n",
    "    \"\"\" \n",
    "    Performs gradient descent to fit w, b. Updates w, b by taking num_iters \n",
    "    gradient steps with learning rate alpha\n",
    "    Args:\n",
    "        x (ndarray(n,))     : input variables, n examples\n",
    "        y (ndarray(n,))     : target values\n",
    "        w_in, b_in (scalar) : intial values of model parameters\n",
    "        alpha (float)       : learning rate\n",
    "        num_iters (int)     : number of iterations to run gradient descent\n",
    "    Returns:\n",
    "        w, b (scalar)       : updated value of model parameters after running \n",
    "                            gradient descent\n",
    "        J_hist (list)       : history of cost values\n",
    "    \"\"\"\n",
    "    J_hist = []\n",
    "    w = copy.deepcopy(w_in)\n",
    "    b = b_in\n",
    "\n",
    "    for i in range(num_iters):\n",
    "        dJ_dw, dJ_db = compute_gradient(X, y, w, b)\n",
    "\n",
    "        w -= alpha * dJ_dw\n",
    "        b -= alpha * dJ_db\n",
    "\n",
    "        J_hist.append(compute_cost(X, y, w, b))\n",
    "\n",
    "        if i % (num_iters / 10) == 0:\n",
    "            print(f\"Iteration {i:4d}: Cost {J_hist[-1]:8.2f}\")\n",
    "            \n",
    "    return w, b, J_hist"
   ]
  },
  {
   "cell_type": "code",
   "execution_count": 13,
   "metadata": {},
   "outputs": [
    {
     "name": "stdout",
     "output_type": "stream",
     "text": [
      "Iteration    0: Cost  2529.46\n",
      "Iteration  100: Cost   695.99\n",
      "Iteration  200: Cost   694.92\n",
      "Iteration  300: Cost   693.86\n",
      "Iteration  400: Cost   692.81\n",
      "Iteration  500: Cost   691.77\n",
      "Iteration  600: Cost   690.73\n",
      "Iteration  700: Cost   689.71\n",
      "Iteration  800: Cost   688.70\n",
      "Iteration  900: Cost   687.69\n",
      "b, w found by gradient descent: -0.00, [ 0.20396569  0.00374919 -0.0112487  -0.0658614 ] \n",
      "prediction: 426.19, target value: 460\n",
      "prediction: 286.17, target value: 232\n",
      "prediction: 171.47, target value: 178\n"
     ]
    }
   ],
   "source": [
    "initial_w = np.zeros_like(w_init)\n",
    "initial_b = 0.0\n",
    "iterations = 1000\n",
    "alpha = 5.0e-7\n",
    "\n",
    "w_final, b_final, J_history = gradient_descent(X_train, y_train, initial_w, initial_b, alpha, iterations)\n",
    "print(f\"b, w found by gradient descent: {b_final:0.2f}, {w_final} \")\n",
    "\n",
    "n = X_train.shape[0]\n",
    "for i in range(n):\n",
    "    print(f\"prediction: {np.dot(X_train[i], w_final) + b_final:0.2f}, target value: {y_train[i]}\")\n"
   ]
  },
  {
   "cell_type": "code",
   "execution_count": 14,
   "metadata": {},
   "outputs": [
    {
     "data": {
      "image/png": "[encoded data removed]",
      "text/plain": [
       "<Figure size 1200x400 with 2 Axes>"
      ]
     },
     "metadata": {},
     "output_type": "display_data"
    }
   ],
   "source": [
    "# Plot cost versus iteration\n",
    "fig, (ax1, ax2) = plt.subplots(1, 2, constrained_layout=True, figsize=(12, 4))\n",
    "\n",
    "ax1.plot(J_history)\n",
    "ax2.plot(100 + np.arange(len(J_history[100:])), J_history[100:])\n",
    "\n",
    "ax1.set_title('Cost vs. iteration');        ax2.set_title('Cost vs. iteration (tail)')\n",
    "ax1.set_xlabel('iteration step');           ax2.set_xlabel('iteration step')\n",
    "ax1.set_ylabel('cost');                     ax2.set_ylabel('cost')\n",
    "\n",
    "plt.show()"
   ]
  }
 ],
 "metadata": {
  "kernelspec": {
   "display_name": "venv",
   "language": "python",
   "name": "python3"
  },
  "language_info": {
   "codemirror_mode": {
    "name": "ipython",
    "version": 3
   },
   "file_extension": ".py",
   "mimetype": "text/x-python",
   "name": "python",
   "nbconvert_exporter": "python",
   "pygments_lexer": "ipython3",
   "version": "3.13.1"
  }
 },
 "nbformat": 4,
 "nbformat_minor": 2
}
